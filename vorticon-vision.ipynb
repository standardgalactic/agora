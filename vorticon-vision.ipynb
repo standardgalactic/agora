{
 "cells": [
  {
   "cell_type": "code",
   "execution_count": 1,
   "metadata": {
    "collapsed": false
   },
   "outputs": [
   ],
   "source": [
    "import numpy as np\n"
   ]
  },
  {
   "cell_type": "code",
   "execution_count": 2,
   "metadata": {
    "collapsed": false
   },
   "outputs": [
   ],
   "source": [
    "import matplotlib.pyplot as plt"
   ]
  },
  {
   "cell_type": "code",
   "execution_count": 3,
   "metadata": {
    "collapsed": false
   },
   "outputs": [
    {
     "data": {
      "image/png": "[encoded data removed]",
      "text/plain": [
       "<Figure size 864x144 with 1 Axes>"
      ]
     },
     "execution_count": 3,
     "metadata": {
      "image/png": {
       "height": 138,
       "width": 683
      },
      "needs_background": "light"
     },
     "output_type": "execute_result"
    }
   ],
   "source": [
    "# Adjusting the grid to spell out \"STANDARD GALACTIC\" based on the new pattern\n",
    "\n",
    "# Resetting the year grid\n",
    "year_grid = np.zeros((7, 52), dtype=int)\n",
    "\n",
    "# Define a function to make commits on specific days of specific weeks\n",
    "def make_commits(weeks, days):\n",
    "    for week in weeks:\n",
    "        for day in days:\n",
    "            year_grid[day, week - 1] = 1\n",
    "\n",
    "# Spell \"STANDARD GALACTIC\" based on the user's instructions\n",
    "# Nothing the first week or any Sunday (0) or Saturday (6)\n",
    "# Commits on Monday (1) and Tuesday (2), etc.\n",
    "make_commits([2], [1, 2])          # S\n",
    "make_commits([3], [3, 4, 5])       # T\n",
    "make_commits([5], [1])             # A\n",
    "make_commits([6], list(range(1, 6)))  # N, skipping Thursday (4)\n",
    "make_commits([8], [5])             # D\n",
    "make_commits([9], [2, 3, 4, 5])    # A\n",
    "make_commits([10], [1, 2])         # R\n",
    "make_commits([11], [2, 3])         # D\n",
    "make_commits([13], [1, 2, 5])      # G\n",
    "make_commits([14], [4])            # A\n",
    "make_commits([15], [1, 2, 3])      # L\n",
    "make_commits([16], [1, 2])         # A\n",
    "make_commits([17], [2, 3])         # C\n",
    "make_commits([18], [1])            # T\n",
    "make_commits([19], [1, 2, 3, 4])   # I\n",
    "make_commits([20], [5])            # C\n",
    "\n",
    "# Create a figure and axis for the plot\n",
    "fig, ax = plt.subplots(figsize=(12, 2))\n",
    "\n",
    "# Plot the year grid\n",
    "ax.imshow(year_grid, cmap='Greens', aspect='auto')\n",
    "\n",
    "# Set the title and remove axes for clarity\n",
    "ax.set_title(\"GitHub Contribution Pattern for 'STANDARD GALACTIC'\")\n",
    "ax.axis('off')\n",
    "\n",
    "plt.show()"
   ]
  }
 ],
 "metadata": {
  "kernelspec": {
   "argv": [
    "/usr/bin/python3",
    "-m",
    "ipykernel",
    "--HistoryManager.enabled=False",
    "--matplotlib=inline",
    "-c",
    "%config InlineBackend.figure_formats = set(['retina'])\nimport matplotlib; matplotlib.rcParams['figure.figsize'] = (12, 7)",
    "-f",
    "{connection_file}"
   ],
   "display_name": "Python 3 (system-wide)",
   "env": {
   },
   "language": "python",
   "metadata": {
    "cocalc": {
     "description": "Python 3 programming language",
     "priority": 100,
     "url": "https://www.python.org/"
    }
   },
   "name": "python3",
   "resource_dir": "/ext/jupyter/kernels/python3"
  },
  "language_info": {
   "codemirror_mode": {
    "name": "ipython",
    "version": 3
   },
   "file_extension": ".py",
   "mimetype": "text/x-python",
   "name": "python",
   "nbconvert_exporter": "python",
   "pygments_lexer": "ipython3",
   "version": "3.10.12"
  }
 },
 "nbformat": 4,
 "nbformat_minor": 4
}